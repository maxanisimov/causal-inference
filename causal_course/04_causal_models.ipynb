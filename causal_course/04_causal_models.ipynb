{
 "cells": [
  {
   "attachments": {},
   "cell_type": "markdown",
   "metadata": {},
   "source": [
    "# I. The do-operator"
   ]
  },
  {
   "attachments": {},
   "cell_type": "markdown",
   "metadata": {},
   "source": [
    "Interventional distribution: $P[Y(t) = y] := P[Y=y|do(T=t)] = P[y|do(t)]$"
   ]
  },
  {
   "attachments": {},
   "cell_type": "markdown",
   "metadata": {},
   "source": [
    "Identification: from causal estimand to statistical estimand"
   ]
  },
  {
   "attachments": {},
   "cell_type": "markdown",
   "metadata": {},
   "source": [
    "# II. Main Assumption: Modularity"
   ]
  },
  {
   "attachments": {},
   "cell_type": "markdown",
   "metadata": {},
   "source": [
    "Modularity assumption -> truncated factorization -> identification"
   ]
  },
  {
   "attachments": {},
   "cell_type": "markdown",
   "metadata": {},
   "source": [
    "# III. Backdoor Adjustment"
   ]
  },
  {
   "attachments": {},
   "cell_type": "markdown",
   "metadata": {},
   "source": [
    "**Backdoor criterion and backdoor adjustment**<br>\n",
    "A set of variables W satisfies the backdoor criterion relative to T and Y if the following are true:\n",
    "1. W blocks all backdoor paths from T to Y\n",
    "2. W does not contain any descendants of T (de(T))"
   ]
  },
  {
   "attachments": {},
   "cell_type": "markdown",
   "metadata": {},
   "source": [
    "Given the modularity assumption and that W satisfies the backdoor criterion, we can identify the causal effect of T on Y:<br>\n",
    "$$P[y|do(t)] = \\sum_{w}P(y| t, w)*P(w)$$"
   ]
  },
  {
   "attachments": {},
   "cell_type": "markdown",
   "metadata": {},
   "source": [
    "If a set of variables W satisfies the backdoor criterion, W is a sufficient adjustment set."
   ]
  },
  {
   "attachments": {},
   "cell_type": "markdown",
   "metadata": {},
   "source": [
    "**Proof of backdoor adjustment**<br><br>\n",
    "$P[y|do(t)] = \\sum_{w} P[y|w, do(t)] * P[w|do(t)] = \\sum_{w} P[y|w, t] * P[w|do(t)] = \\sum_{w} P[y|t, w] * P(w) $ <br>"
   ]
  },
  {
   "attachments": {},
   "cell_type": "markdown",
   "metadata": {},
   "source": [
    "We can use the backdoor adjustment if W d-separates T from Y in the manipulated graph."
   ]
  },
  {
   "attachments": {},
   "cell_type": "markdown",
   "metadata": {},
   "source": [
    "$X\\perp \\!\\!\\! \\perp_{\\mathop{\\mathbb{G}}_{\\bar{T}}}T|W$ if $W$ is a sufficient adjustment set."
   ]
  },
  {
   "attachments": {},
   "cell_type": "markdown",
   "metadata": {},
   "source": [
    "# IV. Structural Causal Models (SCMs)"
   ]
  },
  {
   "attachments": {},
   "cell_type": "markdown",
   "metadata": {},
   "source": [
    "**SCM** is a tuple of the following sets:\n",
    "1. A set of endogenous variables\n",
    "2. A set of exogenous variables\n",
    "3. A set of functions, each to generate each endogenous variable as a function of the other variables"
   ]
  },
  {
   "attachments": {},
   "cell_type": "markdown",
   "metadata": {},
   "source": [
    "# V. A complete example with estimation"
   ]
  },
  {
   "cell_type": "markdown",
   "metadata": {},
   "source": []
  }
 ],
 "metadata": {
  "kernelspec": {
   "display_name": "Python 3",
   "language": "python",
   "name": "python3"
  },
  "language_info": {
   "name": "python",
   "version": "3.9.13"
  },
  "orig_nbformat": 4
 },
 "nbformat": 4,
 "nbformat_minor": 2
}
