{
 "cells": [
  {
   "attachments": {},
   "cell_type": "markdown",
   "metadata": {},
   "source": [
    "# Potentinal Outcome Estimation Basics\n",
    "In this Jupyter notebook, we will learn how to estimate a causal effect of treatment on outcome. "
   ]
  },
  {
   "cell_type": "code",
   "execution_count": 114,
   "metadata": {},
   "outputs": [],
   "source": [
    "import graphviz as gr"
   ]
  },
  {
   "attachments": {},
   "cell_type": "markdown",
   "metadata": {},
   "source": [
    "### Notation\n",
    "To begin with, let us introduce some useful notation.<br>\n",
    "$T$: observed treatment<br>\n",
    "$Y$: observed outcome<br>\n",
    "$do(T=t)$: intervention that sets $T$ to $t$<br>\n",
    "$Y_{i}|_{do(T=t)}$: potential outcome under treatment being equal to $t$ for an individual $i$\n",
    "\n",
    "Assume a binary treatment, i.e. $T=1$ means that treatment was taken, while $T=0$ implies it was not. Then the **causal effect** of the treatment $T$ on the outcome (e.g. health condition) of an individual $i$ is:\n",
    "$$Y_{i}(1) - Y_{i}(0)$$\n",
    "\n",
    "The fundamental problem of causal inference is that we cannot observe both $Y_{i}(1)$ and $Y_{i}(0)$ since it is not possible to take and not to take the treatment $T$ simulateneously. Therefore, we can only estimate the causal effect.\n",
    "\n",
    "The quantity $Y_{i}(1) - Y_{i}(0)$ is called a causal effect or **individual treatment effect (ITE)**. Due to the fundamental problem of causal inference, we usually estimate the **average treatment effect (ATE)**:\n",
    "$$\\mathop{\\mathbb{E}}[Y_{i}(1) - \\mathop{\\mathbb{E}}Y_{i}(0)]$$\n",
    "\n",
    "Due to linearity of expectation, it can obviosuly be written as\n",
    "$$\\mathop{\\mathbb{E}}[Y_{i}(1)] - \\mathop{\\mathbb{E}}[Y_{i}(0)]$$\n",
    "\n",
    "One may be tempted to estimate the ATE just by taking the difference between expeteced outcomes in treatment and control groups: $\\mathop{\\mathbb{E}}[Y|T=1] - \\mathop{\\mathbb{E}}[Y|T=0]$. However, this is generally wrong because there may be other variables (**confounders**) on which we need to condition on to estimate the ATE correctly:\n",
    "\n",
    "$$\\mathop{\\mathbb{E}}[Y_{i}(1) - \\mathop{\\mathbb{E}}Y_{i}(0)] \\neq \\mathop{\\mathbb{E}}[Y|T=1] - \\mathop{\\mathbb{E}}[Y|T=0] \\quad \\text{(generally speaking)}$$\n",
    "\n",
    "In fact, this is just another confirmation that **correlation does not imply causation**!\n"
   ]
  },
  {
   "attachments": {},
   "cell_type": "markdown",
   "metadata": {},
   "source": [
    "### Measuring causal effects in observational studies\n",
    "Now we know that we need to adjust for a sufficient set of confounders $W$ when estimating a causal effect. This implies:\n",
    "$$\\mathop{\\mathbb{E}}[Y(t)] = \\mathop{\\mathbb{E}}[Y|do(T=t)]=\\mathop{\\mathbb{E}}_{W}\\mathop{\\mathbb{E}}[Y|T=t, W]$$\n",
    "\n",
    "That is, we have to condition on the confounders $W$ and then marginalize them out."
   ]
  },
  {
   "attachments": {},
   "cell_type": "markdown",
   "metadata": {},
   "source": [
    "Consider an example where we want to estimate a causal effect of applying treatment ($T=1$) to cure some disease. \n",
    "\n",
    "|      |      Mild Condition   |    Severe Condition    |    Total        |\n",
    "| :--- |     :----:    |    :----:      |   :----:        |\n",
    "| T=0  | 70% (490/700) | 50% (50/100)   | 67.5% (540/800) |\n",
    "| T=1  | 80% (200/250) | 60% (600/1000) | 64% (800/1250)  |\n",
    "\n",
    "$\\mathop{\\mathbb{E}}[Y|T=0] = \\dfrac{490}{800} * 70\\% + \\dfrac{50}{800} * 50\\% = 67.5\\%$<br><br>\n",
    "$\\mathop{\\mathbb{E}}[Y|T=1] = \\dfrac{200}{1250} * 80\\% + \\dfrac{600}{1250} * 60\\% = 64\\%$<br><br>\n",
    "$\\mathop{\\mathbb{E}}[Y|T=1] - \\mathop{\\mathbb{E}}[Y|T=0] = -3.5\\%$<br><br><br>\n",
    "\n",
    "Let $W$ be the sufficient set of confounders, which is the health condition in our case.<br>\n",
    "$\\mathop{\\mathbb{E}}[Y|do(T=0)] = \\mathop{\\mathbb{E}}_{W}\\mathop{\\mathbb{E}}[Y|T=0, W] = \\sum_{w} \\mathop{\\mathbb{P}}(W=w) * \\mathop{\\mathbb{E}}[Y|T=0, W=w] =$<br><br>\n",
    "$=\\mathop{\\mathbb{P}}(W=\\text{mild}) * \\mathop{\\mathbb{E}}[Y|T=0, W=\\text{mild}] + \\mathop{\\mathbb{P}}(W=\\text{severe}) * \\mathop{\\mathbb{E}}[Y|T=0, W=\\text{severe}]=$<br><br>\n",
    "$\\dfrac{690}{2050} * 70\\% + \\dfrac{650}{2050} * 50\\% = 39.41\\%$<br><br><br>\n",
    "\n",
    "$\\mathop{\\mathbb{E}}[Y|do(T=1)] = \\mathop{\\mathbb{E}}_{W}\\mathop{\\mathbb{E}}[Y|T=1, W] = \\sum_{w} \\mathop{\\mathbb{P}}(W=w) * \\mathop{\\mathbb{E}}[Y|T=1, W=w] =$<br><br>\n",
    "$=\\mathop{\\mathbb{P}}(W=\\text{mild}) * \\mathop{\\mathbb{E}}[Y|T=1, W=\\text{mild}] + \\mathop{\\mathbb{P}}(W=\\text{severe}) * \\mathop{\\mathbb{E}}[Y|T=1, W=\\text{severe}]=$<br><br>\n",
    "$\\dfrac{690}{2050} * 80\\% + \\dfrac{650}{2050} * 60\\% = 45.95\\%$<br><br><br>\n",
    "\n",
    "Causal effect (ATE): $\\mathop{\\mathbb{E}}[Y(1) - Y(0)] = \\mathop{\\mathbb{E}}[Y|do(T=1)] - \\mathop{\\mathbb{E}}[Y|do(T=0)] = 6.54\\%$"
   ]
  },
  {
   "cell_type": "code",
   "execution_count": 113,
   "metadata": {},
   "outputs": [
    {
     "data": {
      "image/svg+xml": [
       "<?xml version=\"1.0\" encoding=\"UTF-8\" standalone=\"no\"?>\n",
       "<!DOCTYPE svg PUBLIC \"-//W3C//DTD SVG 1.1//EN\"\n",
       " \"http://www.w3.org/Graphics/SVG/1.1/DTD/svg11.dtd\">\n",
       "<!-- Generated by graphviz version 8.0.1 (20230327.1645)\n",
       " -->\n",
       "<!-- Pages: 1 -->\n",
       "<svg width=\"243pt\" height=\"116pt\"\n",
       " viewBox=\"0.00 0.00 242.99 116.00\" xmlns=\"http://www.w3.org/2000/svg\" xmlns:xlink=\"http://www.w3.org/1999/xlink\">\n",
       "<g id=\"graph0\" class=\"graph\" transform=\"scale(1 1) rotate(0) translate(4 112)\">\n",
       "<polygon fill=\"white\" stroke=\"none\" points=\"-4,4 -4,-112 238.99,-112 238.99,4 -4,4\"/>\n",
       "<!-- Treatment -->\n",
       "<g id=\"node1\" class=\"node\">\n",
       "<title>Treatment</title>\n",
       "<ellipse fill=\"none\" stroke=\"black\" cx=\"47.45\" cy=\"-18\" rx=\"47.39\" ry=\"18\"/>\n",
       "<text text-anchor=\"middle\" x=\"47.45\" y=\"-14.3\" font-family=\"Times,serif\" font-size=\"14.00\">Treatment</text>\n",
       "</g>\n",
       "<!-- Outcome -->\n",
       "<g id=\"node2\" class=\"node\">\n",
       "<title>Outcome</title>\n",
       "<ellipse fill=\"none\" stroke=\"black\" cx=\"191.45\" cy=\"-18\" rx=\"43.59\" ry=\"18\"/>\n",
       "<text text-anchor=\"middle\" x=\"191.45\" y=\"-14.3\" font-family=\"Times,serif\" font-size=\"14.00\">Outcome</text>\n",
       "</g>\n",
       "<!-- Treatment&#45;&gt;Outcome -->\n",
       "<g id=\"edge1\" class=\"edge\">\n",
       "<title>Treatment&#45;&gt;Outcome</title>\n",
       "<path fill=\"none\" stroke=\"black\" d=\"M95,-18C108.31,-18 122.89,-18 136.6,-18\"/>\n",
       "<polygon fill=\"black\" stroke=\"black\" points=\"136.36,-21.5 146.36,-18 136.36,-14.5 136.36,-21.5\"/>\n",
       "</g>\n",
       "<!-- Health Condition -->\n",
       "<g id=\"node3\" class=\"node\">\n",
       "<title>Health Condition</title>\n",
       "<ellipse fill=\"none\" stroke=\"black\" cx=\"119.45\" cy=\"-90\" rx=\"71.49\" ry=\"18\"/>\n",
       "<text text-anchor=\"middle\" x=\"119.45\" y=\"-86.3\" font-family=\"Times,serif\" font-size=\"14.00\">Health Condition</text>\n",
       "</g>\n",
       "<!-- Health Condition&#45;&gt;Treatment -->\n",
       "<g id=\"edge2\" class=\"edge\">\n",
       "<title>Health Condition&#45;&gt;Treatment</title>\n",
       "<path fill=\"none\" stroke=\"black\" d=\"M101.65,-72.2C92.8,-63.35 81.96,-52.51 72.3,-42.86\"/>\n",
       "<polygon fill=\"black\" stroke=\"black\" points=\"75.09,-40.69 65.54,-36.1 70.14,-45.64 75.09,-40.69\"/>\n",
       "</g>\n",
       "<!-- Health Condition&#45;&gt;Outcome -->\n",
       "<g id=\"edge3\" class=\"edge\">\n",
       "<title>Health Condition&#45;&gt;Outcome</title>\n",
       "<path fill=\"none\" stroke=\"black\" d=\"M137.24,-72.2C146.31,-63.13 157.47,-51.97 167.31,-42.14\"/>\n",
       "<polygon fill=\"black\" stroke=\"black\" points=\"169.24,-45.15 173.84,-35.61 164.29,-40.2 169.24,-45.15\"/>\n",
       "</g>\n",
       "</g>\n",
       "</svg>\n"
      ],
      "text/plain": [
       "<graphviz.graphs.Digraph at 0x132b6cd00>"
      ]
     },
     "execution_count": 113,
     "metadata": {},
     "output_type": "execute_result"
    }
   ],
   "source": [
    "g = gr.Digraph(engine=\"neato\")\n",
    "g.node('Treatment',pos='0,2!')\n",
    "g.node('Outcome',pos='2,2!')\n",
    "g.node('Health Condition',pos='1,3!')\n",
    "g.edge(\"Treatment\", \"Outcome\")\n",
    "g.edge(\"Health Condition\", \"Treatment\")\n",
    "g.edge(\"Health Condition\", \"Outcome\")\n",
    "\n",
    "g"
   ]
  },
  {
   "attachments": {},
   "cell_type": "markdown",
   "metadata": {},
   "source": [
    "### Proof: from causal estimand to statistical estimand"
   ]
  },
  {
   "attachments": {},
   "cell_type": "markdown",
   "metadata": {},
   "source": [
    "$\\mathop{\\mathbb{E}} [Y(1)-Y(0)] = $<br>\n",
    "linearity of expectation:<br>\n",
    "$= \\mathop{\\mathbb{E}} [Y(1)] - \\mathop{\\mathbb{E}}[Y(0)] = $<br>\n",
    "law of iterated expectations:<br>\n",
    "$= \\mathop{\\mathbb{E}}_{W} [\\mathop{\\mathbb{E}} [Y(1)] - \\mathop{\\mathbb{E}}[Y(0)] | W] = \\mathop{\\mathbb{E}}_{W} [\\mathop{\\mathbb{E}} [Y(1)|W] - \\mathop{\\mathbb{E}}[Y(0)|W]]= $<br>\n",
    "unconfoundedness (Y(0) and Y(1) are independent of T) and positivity:<br>\n",
    "$=\\mathop{\\mathbb{E}}_{W} [\\mathop{\\mathbb{E}} [Y(1)|T=1, W] - \\mathop{\\mathbb{E}}[Y(0)|T=0,W]]$<br>\n",
    "consistency(Y(t)|t = Y|t):<br>\n",
    "$=\\mathop{\\mathbb{E}}_{W} [\\mathop{\\mathbb{E}} [Y|T=1, W] - \\mathop{\\mathbb{E}}[Y|T=0,W]] = \\mathop{\\mathbb{E}}_{W} [\\mathop{\\mathbb{E}} [Y|T=1, W]] - \\mathop{\\mathbb{E}}_{W}[\\mathop{\\mathbb{E}}[Y|T=0,W]]$"
   ]
  },
  {
   "cell_type": "code",
   "execution_count": null,
   "metadata": {},
   "outputs": [],
   "source": []
  },
  {
   "cell_type": "code",
   "execution_count": 1,
   "metadata": {},
   "outputs": [],
   "source": [
    "import numpy as np\n",
    "import pandas as pd\n",
    "from sklearn.linear_model import LinearRegression"
   ]
  },
  {
   "attachments": {},
   "cell_type": "markdown",
   "metadata": {},
   "source": [
    "Estimating the causal effect of sodium on blood pressure in a simulated example\n",
    "adapted from Luque-Fernandez et al. (2018): https://academic.oup.com/ije/article/48/2/640/5248195."
   ]
  },
  {
   "cell_type": "code",
   "execution_count": 129,
   "metadata": {},
   "outputs": [
    {
     "data": {
      "image/svg+xml": [
       "<?xml version=\"1.0\" encoding=\"UTF-8\" standalone=\"no\"?>\n",
       "<!DOCTYPE svg PUBLIC \"-//W3C//DTD SVG 1.1//EN\"\n",
       " \"http://www.w3.org/Graphics/SVG/1.1/DTD/svg11.dtd\">\n",
       "<!-- Generated by graphviz version 8.0.1 (20230327.1645)\n",
       " -->\n",
       "<!-- Pages: 1 -->\n",
       "<svg width=\"422pt\" height=\"188pt\"\n",
       " viewBox=\"0.00 0.00 422.09 188.00\" xmlns=\"http://www.w3.org/2000/svg\" xmlns:xlink=\"http://www.w3.org/1999/xlink\">\n",
       "<g id=\"graph0\" class=\"graph\" transform=\"scale(1 1) rotate(0) translate(4 184)\">\n",
       "<polygon fill=\"white\" stroke=\"none\" points=\"-4,4 -4,-184 418.09,-184 418.09,4 -4,4\"/>\n",
       "<!-- Age -->\n",
       "<g id=\"node1\" class=\"node\">\n",
       "<title>Age</title>\n",
       "<ellipse fill=\"none\" stroke=\"black\" cx=\"206.39\" cy=\"-162\" rx=\"27\" ry=\"18\"/>\n",
       "<text text-anchor=\"middle\" x=\"206.39\" y=\"-158.3\" font-family=\"Times,serif\" font-size=\"14.00\">Age</text>\n",
       "</g>\n",
       "<!-- Sodium intake -->\n",
       "<g id=\"node2\" class=\"node\">\n",
       "<title>Sodium intake</title>\n",
       "<ellipse fill=\"none\" stroke=\"black\" cx=\"62.39\" cy=\"-90\" rx=\"62.29\" ry=\"18\"/>\n",
       "<text text-anchor=\"middle\" x=\"62.39\" y=\"-86.3\" font-family=\"Times,serif\" font-size=\"14.00\">Sodium intake</text>\n",
       "</g>\n",
       "<!-- Age&#45;&gt;Sodium intake -->\n",
       "<g id=\"edge1\" class=\"edge\">\n",
       "<title>Age&#45;&gt;Sodium intake</title>\n",
       "<path fill=\"none\" stroke=\"black\" d=\"M184.52,-151.06C163.18,-140.39 130.15,-123.88 103.83,-110.72\"/>\n",
       "<polygon fill=\"black\" stroke=\"black\" points=\"105.61,-107.2 95.1,-105.86 102.48,-113.46 105.61,-107.2\"/>\n",
       "</g>\n",
       "<!-- Blood pressure -->\n",
       "<g id=\"node3\" class=\"node\">\n",
       "<title>Blood pressure</title>\n",
       "<ellipse fill=\"none\" stroke=\"black\" cx=\"350.39\" cy=\"-90\" rx=\"63.89\" ry=\"18\"/>\n",
       "<text text-anchor=\"middle\" x=\"350.39\" y=\"-86.3\" font-family=\"Times,serif\" font-size=\"14.00\">Blood pressure</text>\n",
       "</g>\n",
       "<!-- Age&#45;&gt;Blood pressure -->\n",
       "<g id=\"edge2\" class=\"edge\">\n",
       "<title>Age&#45;&gt;Blood pressure</title>\n",
       "<path fill=\"none\" stroke=\"black\" d=\"M228.26,-151.06C249.54,-140.43 282.42,-123.99 308.7,-110.85\"/>\n",
       "<polygon fill=\"black\" stroke=\"black\" points=\"310.04,-113.59 317.42,-105.99 306.91,-107.33 310.04,-113.59\"/>\n",
       "</g>\n",
       "<!-- Sodium intake&#45;&gt;Blood pressure -->\n",
       "<g id=\"edge3\" class=\"edge\">\n",
       "<title>Sodium intake&#45;&gt;Blood pressure</title>\n",
       "<path fill=\"none\" stroke=\"black\" d=\"M124.89,-90C169,-90 228.32,-90 275.05,-90\"/>\n",
       "<polygon fill=\"black\" stroke=\"black\" points=\"275.03,-93.5 285.03,-90 275.03,-86.5 275.03,-93.5\"/>\n",
       "</g>\n",
       "<!-- Proteinuria -->\n",
       "<g id=\"node4\" class=\"node\">\n",
       "<title>Proteinuria</title>\n",
       "<ellipse fill=\"none\" stroke=\"black\" cx=\"206.39\" cy=\"-18\" rx=\"50.09\" ry=\"18\"/>\n",
       "<text text-anchor=\"middle\" x=\"206.39\" y=\"-14.3\" font-family=\"Times,serif\" font-size=\"14.00\">Proteinuria</text>\n",
       "</g>\n",
       "<!-- Sodium intake&#45;&gt;Proteinuria -->\n",
       "<g id=\"edge4\" class=\"edge\">\n",
       "<title>Sodium intake&#45;&gt;Proteinuria</title>\n",
       "<path fill=\"none\" stroke=\"black\" d=\"M94,-74.2C115.49,-63.45 144.08,-49.16 167.05,-37.67\"/>\n",
       "<polygon fill=\"black\" stroke=\"black\" points=\"168.45,-40.38 175.83,-32.78 165.32,-34.12 168.45,-40.38\"/>\n",
       "</g>\n",
       "<!-- Blood pressure&#45;&gt;Proteinuria -->\n",
       "<g id=\"edge5\" class=\"edge\">\n",
       "<title>Blood pressure&#45;&gt;Proteinuria</title>\n",
       "<path fill=\"none\" stroke=\"black\" d=\"M318.44,-74.02C296.93,-63.27 268.43,-49.02 245.56,-37.58\"/>\n",
       "<polygon fill=\"black\" stroke=\"black\" points=\"247.32,-34.05 236.81,-32.71 244.19,-40.31 247.32,-34.05\"/>\n",
       "</g>\n",
       "</g>\n",
       "</svg>\n"
      ],
      "text/plain": [
       "<graphviz.graphs.Digraph at 0x132bb3070>"
      ]
     },
     "execution_count": 129,
     "metadata": {},
     "output_type": "execute_result"
    }
   ],
   "source": [
    "bp_graph = gr.Digraph(engine=\"neato\")\n",
    "bp_graph.node('Age',pos='1,3!')\n",
    "bp_graph.node('Sodium intake',pos='-1,2!')\n",
    "bp_graph.node('Blood pressure',pos='3,2!')\n",
    "bp_graph.node(\"Proteinuria\",pos='1,1!')\n",
    "bp_graph.edge(\"Age\", \"Sodium intake\")\n",
    "bp_graph.edge(\"Age\", \"Blood pressure\")\n",
    "bp_graph.edge(\"Sodium intake\", \"Blood pressure\")\n",
    "bp_graph.edge(\"Sodium intake\", \"Proteinuria\")\n",
    "bp_graph.edge(\"Blood pressure\", \"Proteinuria\")\n",
    "\n",
    "bp_graph"
   ]
  },
  {
   "cell_type": "code",
   "execution_count": null,
   "metadata": {},
   "outputs": [],
   "source": []
  },
  {
   "cell_type": "code",
   "execution_count": 131,
   "metadata": {},
   "outputs": [],
   "source": [
    "def generate_data(\n",
    "        n: int = 1000, seed: int = 0, beta1: float = 1.05, alpha1: float = 0.4, alpha2: float = 0.3,\n",
    "        binary_treatment: bool = True, binary_cutoff: float = 3.5\n",
    "    ) -> pd.DataFrame:\n",
    "    \"\"\"\n",
    "    Generate data according to the following causal graph:\n",
    "                   Age\n",
    "                 /     \\ \n",
    "                /       \\ \n",
    "               v         v\n",
    "    Sodium intake -------> Blood pressure\n",
    "              \\            /\n",
    "               \\          /\n",
    "                v        v\n",
    "               Proteinuria\n",
    "    Proteinuria is a collider and must not be conditioned on!\n",
    "\n",
    "    :param n: number of data points\n",
    "    :param seed: random seed\n",
    "    :param beta1: beta1 coefficient\n",
    "    :param alpha1: alpha1 coefficient\n",
    "    :param alpha2: alpha2 coefficient\n",
    "    :param binary_treatment: whether to treat the treatment as binary\n",
    "    :param binary_cutoff: the binary threshold\n",
    "    :returns: dataframe with generated data\n",
    "    \"\"\"\n",
    "    \n",
    "    # Covariate generation\n",
    "    np.random.seed(seed)\n",
    "    age = np.random.normal(65, 5, n)\n",
    "    sodium = age / 18 + np.random.normal(size=n)\n",
    "    if binary_treatment:\n",
    "        if binary_cutoff is None:\n",
    "            binary_cutoff = sodium.mean()\n",
    "        sodium = (sodium > binary_cutoff).astype(int)\n",
    "    blood_pressure = beta1 * sodium + 2 * age + np.random.normal(size=n)\n",
    "    proteinuria = alpha1 * sodium + alpha2 * blood_pressure + np.random.normal(size=n)\n",
    "    # hypertension = (blood_pressure >= 140).astype(int)  # not used, but could be used for binary outcomes\n",
    "    return pd.DataFrame(\n",
    "        {'blood_pressure': blood_pressure, 'sodium': sodium, 'age': age, 'proteinuria': proteinuria}\n",
    "    )\n",
    "\n",
    "\n",
    "def estimate_causal_effect(Wt, y, model: callable = LinearRegression(), treatment_idx: int = 0, regression_coef: bool = False) -> float:\n",
    "    \"\"\"\n",
    "    Estimate a causal effect.\n",
    "    \n",
    "    :param Wt: sufficient confounder set and treatment\n",
    "    :param y: outcome\n",
    "    :param model:\n",
    "    :param treatment_idx: alpha1 coefficient\n",
    "    :param alpha2: alpha2 coefficient\n",
    "    :param regression_coef: whether to treat the treatment as binary\n",
    "    :returns: causal effect estimate\n",
    "    \"\"\"\n",
    "    model.fit(Wt, y)\n",
    "    if regression_coef:\n",
    "        return model.coef_[treatment_idx]\n",
    "    \n",
    "    Wt1 = pd.DataFrame.copy(Wt)  # create a dataframe with treatment values of 1\n",
    "    Wt1[Wt.columns[treatment_idx]] = 1\n",
    "    Wt0 = pd.DataFrame.copy(Wt)  # # create a dataframe with treatment values of 0\n",
    "    Wt0[Wt.columns[treatment_idx]] = 0\n",
    "    return (model.predict(Wt1) - model.predict(Wt0)).mean() # estimation step"
   ]
  },
  {
   "cell_type": "code",
   "execution_count": 132,
   "metadata": {},
   "outputs": [],
   "source": [
    "binary_t_df = generate_data(beta1=1.05, alpha1=.4, alpha2=.3, binary_treatment=True, n=10000000)\n",
    "continuous_t_df = generate_data(beta1=1.05, alpha1=.4, alpha2=.3, binary_treatment=False, n=10000000)"
   ]
  },
  {
   "attachments": {},
   "cell_type": "markdown",
   "metadata": {},
   "source": [
    "### Binary estimation\n",
    "$y_{i} = \\alpha t_i + W_i\\beta$ <br><br>\n",
    "\n",
    "Regression coefficient method: $\\alpha$ <br>\n",
    "\n",
    "\n",
    "Adjustment formula:<br>\n",
    "$\\bar{y}^{(1)} = \\alpha + {\\bar{W}}^T \\beta$<br>\n",
    "$\\bar{y}^{(0)} = \\bar{W}^T \\beta$<br>\n",
    "$\\bar{y}^{(1)} - \\bar{y}^{(0)} = \\alpha + {\\bar{W}}^T \\beta - \\bar{W}^T \\beta = \\alpha$"
   ]
  },
  {
   "attachments": {},
   "cell_type": "markdown",
   "metadata": {},
   "source": [
    "#### Naive (undercontrol)"
   ]
  },
  {
   "cell_type": "code",
   "execution_count": 134,
   "metadata": {},
   "outputs": [
    {
     "name": "stdout",
     "output_type": "stream",
     "text": [
      "Naive ATE estimate: 5.33\n"
     ]
    }
   ],
   "source": [
    "ate_est_naive = estimate_causal_effect(binary_t_df[['sodium']], binary_t_df['blood_pressure'], treatment_idx=0)\n",
    "print('Naive ATE estimate:', round(ate_est_naive, 2))"
   ]
  },
  {
   "attachments": {},
   "cell_type": "markdown",
   "metadata": {},
   "source": [
    "#### Overcontrol"
   ]
  },
  {
   "cell_type": "code",
   "execution_count": 136,
   "metadata": {},
   "outputs": [
    {
     "name": "stdout",
     "output_type": "stream",
     "text": [
      "ATE estimate adjusting for all covariates: 0.85\n"
     ]
    }
   ],
   "source": [
    "ate_est_adjust_all = estimate_causal_effect(\n",
    "    binary_t_df[['sodium', 'age', 'proteinuria']], binary_t_df['blood_pressure'], treatment_idx=0\n",
    ")\n",
    "print('ATE estimate adjusting for all covariates:', round(ate_est_adjust_all, 2))"
   ]
  },
  {
   "attachments": {},
   "cell_type": "markdown",
   "metadata": {},
   "source": [
    "#### Correct causal effect estimation"
   ]
  },
  {
   "cell_type": "code",
   "execution_count": 138,
   "metadata": {},
   "outputs": [
    {
     "name": "stdout",
     "output_type": "stream",
     "text": [
      "ATE estimate adjusting for age: 1.05\n"
     ]
    }
   ],
   "source": [
    "ate_est_adjust_age = estimate_causal_effect(binary_t_df[['sodium', 'age']], binary_t_df['blood_pressure'])  # correct estimation\n",
    "print('ATE estimate adjusting for age:', round(ate_est_adjust_age, 2))"
   ]
  },
  {
   "cell_type": "code",
   "execution_count": 139,
   "metadata": {},
   "outputs": [
    {
     "name": "stdout",
     "output_type": "stream",
     "text": [
      "# Regression Coefficient Estimates #\n",
      "Naive ATE estimate:\t\t\t\t 5.33\n",
      "ATE estimate adjusting for all covariates:\t 0.85\n",
      "ATE estimate adjusting for age:\t\t\t 1.05\n"
     ]
    }
   ],
   "source": [
    "# Linear regression coefficient estimates\n",
    "ate_est_naive = estimate_causal_effect(\n",
    "    binary_t_df[['sodium']], binary_t_df['blood_pressure'], treatment_idx=0, regression_coef=True\n",
    ")\n",
    "ate_est_adjust_all = estimate_causal_effect(\n",
    "    binary_t_df[['sodium', 'age', 'proteinuria']], binary_t_df['blood_pressure'], treatment_idx=0, regression_coef=True\n",
    ")\n",
    "ate_est_adjust_age = estimate_causal_effect(\n",
    "    binary_t_df[['sodium', 'age']], binary_t_df['blood_pressure'], regression_coef=True\n",
    ")\n",
    "print('# Regression Coefficient Estimates #')\n",
    "print('Naive ATE estimate:\\t\\t\\t\\t', round(ate_est_naive, 2))\n",
    "print('ATE estimate adjusting for all covariates:\\t', round(ate_est_adjust_all, 2))\n",
    "print('ATE estimate adjusting for age:\\t\\t\\t', round(ate_est_adjust_age, 2))"
   ]
  },
  {
   "attachments": {},
   "cell_type": "markdown",
   "metadata": {},
   "source": [
    "#### Continuous treatment"
   ]
  },
  {
   "cell_type": "code",
   "execution_count": 140,
   "metadata": {},
   "outputs": [
    {
     "name": "stdout",
     "output_type": "stream",
     "text": [
      "# Adjustment Formula Estimates #\n",
      "Naive ATE estimate:\t\t\t\t 3.63\n",
      "ATE estimate adjusting for all covariates:\t 0.85\n",
      "ATE estimate adjusting for age:\t\t\t 1.05\n",
      "\n",
      "# Regression Coefficient Estimates #\n",
      "Naive ATE estimate:\t\t\t\t 3.63\n",
      "ATE estimate adjusting for all covariates:\t 0.85\n",
      "ATE estimate adjusting for age:\t\t\t 1.05\n"
     ]
    }
   ],
   "source": [
    "ate_est_naive = None\n",
    "ate_est_adjust_all = None\n",
    "ate_est_adjust_age = None\n",
    "\n",
    "# Adjustment formula estimates\n",
    "ate_est_naive = estimate_causal_effect(continuous_t_df[['sodium']], continuous_t_df['blood_pressure'], treatment_idx=0)\n",
    "ate_est_adjust_all = estimate_causal_effect(\n",
    "    continuous_t_df[['sodium', 'age', 'proteinuria']], continuous_t_df['blood_pressure'], treatment_idx=0\n",
    ")\n",
    "ate_est_adjust_age = estimate_causal_effect(continuous_t_df[['sodium', 'age']], continuous_t_df['blood_pressure'])  # correct estimation\n",
    "print('# Adjustment Formula Estimates #')\n",
    "print('Naive ATE estimate:\\t\\t\\t\\t', round(ate_est_naive, 2))\n",
    "print('ATE estimate adjusting for all covariates:\\t', round(ate_est_adjust_all, 2))\n",
    "print('ATE estimate adjusting for age:\\t\\t\\t', round(ate_est_adjust_age, 2))\n",
    "print()\n",
    "\n",
    "# Linear regression coefficient estimates\n",
    "ate_est_naive = estimate_causal_effect(\n",
    "    continuous_t_df[['sodium']], continuous_t_df['blood_pressure'], treatment_idx=0, regression_coef=True\n",
    ")\n",
    "ate_est_adjust_all = estimate_causal_effect(\n",
    "    continuous_t_df[['sodium', 'age', 'proteinuria']], continuous_t_df['blood_pressure'], treatment_idx=0, regression_coef=True\n",
    ")\n",
    "ate_est_adjust_age = estimate_causal_effect(\n",
    "    continuous_t_df[['sodium', 'age']], continuous_t_df['blood_pressure'], regression_coef=True\n",
    ")\n",
    "print('# Regression Coefficient Estimates #')\n",
    "print('Naive ATE estimate:\\t\\t\\t\\t', round(ate_est_naive, 2))\n",
    "print('ATE estimate adjusting for all covariates:\\t', round(ate_est_adjust_all, 2))\n",
    "print('ATE estimate adjusting for age:\\t\\t\\t', round(ate_est_adjust_age, 2))"
   ]
  },
  {
   "attachments": {},
   "cell_type": "markdown",
   "metadata": {},
   "source": [
    "NB: A limitation of this approach is the fact that we assume a linear parametrics form -> the causal effect estimate is the same for all individuals!"
   ]
  }
 ],
 "metadata": {
  "kernelspec": {
   "display_name": "Python 3",
   "language": "python",
   "name": "python3"
  },
  "language_info": {
   "codemirror_mode": {
    "name": "ipython",
    "version": 3
   },
   "file_extension": ".py",
   "mimetype": "text/x-python",
   "name": "python",
   "nbconvert_exporter": "python",
   "pygments_lexer": "ipython3",
   "version": "3.9.13"
  },
  "orig_nbformat": 4
 },
 "nbformat": 4,
 "nbformat_minor": 2
}
